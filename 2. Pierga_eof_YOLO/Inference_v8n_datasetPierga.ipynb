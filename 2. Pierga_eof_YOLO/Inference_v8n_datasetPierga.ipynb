{
 "cells": [
  {
   "cell_type": "markdown",
   "id": "39c9ceb5",
   "metadata": {},
   "source": [
    "# Model evaluation"
   ]
  },
  {
   "cell_type": "code",
   "execution_count": null,
   "id": "566eeed6",
   "metadata": {},
   "outputs": [],
   "source": []
  },
  {
   "cell_type": "markdown",
   "id": "48ba6342",
   "metadata": {},
   "source": [
    "# Live inference webcam"
   ]
  },
  {
   "cell_type": "code",
   "execution_count": null,
   "id": "44436333",
   "metadata": {},
   "outputs": [],
   "source": [
    "import cv2\n",
    "from ultralytics import YOLO\n",
    "\n",
    "model = YOLO('v8n_dataset_pierga.pt')\n",
    "cap = cv2.VideoCapture(0)\n",
    "\n",
    "if not cap.isOpened():\n",
    "    print(\"❌ Errore nell'aprire la webcam\")\n",
    "else:\n",
    "    print(\"🎥 Webcam attiva. Premi 'q' per uscire.\")\n",
    "\n",
    "while cap.isOpened():\n",
    "    ret, frame = cap.read()\n",
    "    if not ret:\n",
    "        break\n",
    "\n",
    "    results = model.predict(frame, imgsz=640, conf=0.9, verbose=False)[0]\n",
    "    annotated_frame = results.plot()\n",
    "\n",
    "    # 🖨️ Log su terminale\n",
    "    for box in results.boxes:\n",
    "        cls_id = int(box.cls[0])\n",
    "        conf = float(box.conf[0])\n",
    "        xyxy = box.xyxy[0].tolist()\n",
    "        print(f\"Classe: {model.names[cls_id]}, Confidenza: {conf:.2f}, BBox: {xyxy}\")\n",
    "\n",
    "    cv2.imshow(\"YOLOv8 - Eyes On Falls LIVE\", annotated_frame)\n",
    "\n",
    "    if cv2.waitKey(1) & 0xFF == ord('q'):\n",
    "        break\n",
    "\n",
    "cap.release()\n",
    "cv2.destroyAllWindows()\n"
   ]
  }
 ],
 "metadata": {
  "kernelspec": {
   "display_name": "myenv",
   "language": "python",
   "name": "python3"
  },
  "language_info": {
   "codemirror_mode": {
    "name": "ipython",
    "version": 3
   },
   "file_extension": ".py",
   "mimetype": "text/x-python",
   "name": "python",
   "nbconvert_exporter": "python",
   "pygments_lexer": "ipython3",
   "version": "3.13.0"
  }
 },
 "nbformat": 4,
 "nbformat_minor": 5
}
